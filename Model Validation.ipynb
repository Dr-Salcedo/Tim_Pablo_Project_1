{
 "cells": [
  {
   "cell_type": "code",
   "execution_count": 1,
   "metadata": {},
   "outputs": [],
   "source": [
    "import pandas as pd\n",
    "import numpy as np\n",
    "import matplotlib.pyplot as plt\n",
    "import statsmodels.api as sm\n",
    "import statsmodels.formula.api as smf\n",
    "\n",
    "\n",
    "df = pd.read_csv('kc_house_data.csv')\n",
    "df.head()\n",
    "\n",
    "df = df.replace('?' , np.nan)\n",
    "df['age'] = 2019-df['yr_built']"
   ]
  },
  {
   "cell_type": "code",
   "execution_count": 3,
   "metadata": {},
   "outputs": [
    {
     "data": {
      "text/html": [
       "<table class=\"simpletable\">\n",
       "<caption>OLS Regression Results</caption>\n",
       "<tr>\n",
       "  <th>Dep. Variable:</th>          <td>price</td>      <th>  R-squared:         </th>  <td>   0.619</td>  \n",
       "</tr>\n",
       "<tr>\n",
       "  <th>Model:</th>                   <td>OLS</td>       <th>  Adj. R-squared:    </th>  <td>   0.619</td>  \n",
       "</tr>\n",
       "<tr>\n",
       "  <th>Method:</th>             <td>Least Squares</td>  <th>  F-statistic:       </th>  <td>   3892.</td>  \n",
       "</tr>\n",
       "<tr>\n",
       "  <th>Date:</th>             <td>Mon, 06 May 2019</td> <th>  Prob (F-statistic):</th>   <td>  0.00</td>   \n",
       "</tr>\n",
       "<tr>\n",
       "  <th>Time:</th>                 <td>17:45:38</td>     <th>  Log-Likelihood:    </th> <td>-2.9698e+05</td>\n",
       "</tr>\n",
       "<tr>\n",
       "  <th>No. Observations:</th>      <td> 21597</td>      <th>  AIC:               </th>  <td>5.940e+05</td> \n",
       "</tr>\n",
       "<tr>\n",
       "  <th>Df Residuals:</th>          <td> 21587</td>      <th>  BIC:               </th>  <td>5.941e+05</td> \n",
       "</tr>\n",
       "<tr>\n",
       "  <th>Df Model:</th>              <td>     9</td>      <th>                     </th>      <td> </td>     \n",
       "</tr>\n",
       "<tr>\n",
       "  <th>Covariance Type:</th>      <td>nonrobust</td>    <th>                     </th>      <td> </td>     \n",
       "</tr>\n",
       "</table>\n",
       "<table class=\"simpletable\">\n",
       "<tr>\n",
       "        <td></td>           <th>coef</th>     <th>std err</th>      <th>t</th>      <th>P>|t|</th>  <th>[0.025</th>    <th>0.975]</th>  \n",
       "</tr>\n",
       "<tr>\n",
       "  <th>const</th>         <td>-1.019e+06</td> <td> 1.63e+04</td> <td>  -62.388</td> <td> 0.000</td> <td>-1.05e+06</td> <td>-9.87e+05</td>\n",
       "</tr>\n",
       "<tr>\n",
       "  <th>sqft_living</th>   <td>  176.5988</td> <td>    3.757</td> <td>   47.002</td> <td> 0.000</td> <td>  169.234</td> <td>  183.963</td>\n",
       "</tr>\n",
       "<tr>\n",
       "  <th>bedrooms</th>      <td>-4.868e+04</td> <td> 2120.642</td> <td>  -22.957</td> <td> 0.000</td> <td>-5.28e+04</td> <td>-4.45e+04</td>\n",
       "</tr>\n",
       "<tr>\n",
       "  <th>bathrooms</th>     <td> 5.575e+04</td> <td> 3588.343</td> <td>   15.537</td> <td> 0.000</td> <td> 4.87e+04</td> <td> 6.28e+04</td>\n",
       "</tr>\n",
       "<tr>\n",
       "  <th>floors</th>        <td> 1.929e+04</td> <td> 3574.190</td> <td>    5.398</td> <td> 0.000</td> <td> 1.23e+04</td> <td> 2.63e+04</td>\n",
       "</tr>\n",
       "<tr>\n",
       "  <th>sqft_lot</th>      <td>   -0.0105</td> <td>    0.054</td> <td>   -0.196</td> <td> 0.845</td> <td>   -0.116</td> <td>    0.095</td>\n",
       "</tr>\n",
       "<tr>\n",
       "  <th>grade</th>         <td> 1.246e+05</td> <td> 2353.417</td> <td>   52.931</td> <td> 0.000</td> <td>  1.2e+05</td> <td> 1.29e+05</td>\n",
       "</tr>\n",
       "<tr>\n",
       "  <th>sqft_living15</th> <td>   30.9856</td> <td>    3.687</td> <td>    8.404</td> <td> 0.000</td> <td>   23.759</td> <td>   38.213</td>\n",
       "</tr>\n",
       "<tr>\n",
       "  <th>sqft_lot15</th>    <td>   -0.5246</td> <td>    0.082</td> <td>   -6.378</td> <td> 0.000</td> <td>   -0.686</td> <td>   -0.363</td>\n",
       "</tr>\n",
       "<tr>\n",
       "  <th>age</th>           <td> 4184.7557</td> <td>   66.634</td> <td>   62.802</td> <td> 0.000</td> <td> 4054.148</td> <td> 4315.364</td>\n",
       "</tr>\n",
       "</table>\n",
       "<table class=\"simpletable\">\n",
       "<tr>\n",
       "  <th>Omnibus:</th>       <td>17500.822</td> <th>  Durbin-Watson:     </th>  <td>   1.984</td>  \n",
       "</tr>\n",
       "<tr>\n",
       "  <th>Prob(Omnibus):</th>  <td> 0.000</td>   <th>  Jarque-Bera (JB):  </th> <td>1279225.711</td>\n",
       "</tr>\n",
       "<tr>\n",
       "  <th>Skew:</th>           <td> 3.400</td>   <th>  Prob(JB):          </th>  <td>    0.00</td>  \n",
       "</tr>\n",
       "<tr>\n",
       "  <th>Kurtosis:</th>       <td>40.085</td>   <th>  Cond. No.          </th>  <td>5.39e+05</td>  \n",
       "</tr>\n",
       "</table><br/><br/>Warnings:<br/>[1] Standard Errors assume that the covariance matrix of the errors is correctly specified.<br/>[2] The condition number is large, 5.39e+05. This might indicate that there are<br/>strong multicollinearity or other numerical problems."
      ],
      "text/plain": [
       "<class 'statsmodels.iolib.summary.Summary'>\n",
       "\"\"\"\n",
       "                            OLS Regression Results                            \n",
       "==============================================================================\n",
       "Dep. Variable:                  price   R-squared:                       0.619\n",
       "Model:                            OLS   Adj. R-squared:                  0.619\n",
       "Method:                 Least Squares   F-statistic:                     3892.\n",
       "Date:                Mon, 06 May 2019   Prob (F-statistic):               0.00\n",
       "Time:                        17:45:38   Log-Likelihood:            -2.9698e+05\n",
       "No. Observations:               21597   AIC:                         5.940e+05\n",
       "Df Residuals:                   21587   BIC:                         5.941e+05\n",
       "Df Model:                           9                                         \n",
       "Covariance Type:            nonrobust                                         \n",
       "=================================================================================\n",
       "                    coef    std err          t      P>|t|      [0.025      0.975]\n",
       "---------------------------------------------------------------------------------\n",
       "const         -1.019e+06   1.63e+04    -62.388      0.000   -1.05e+06   -9.87e+05\n",
       "sqft_living     176.5988      3.757     47.002      0.000     169.234     183.963\n",
       "bedrooms      -4.868e+04   2120.642    -22.957      0.000   -5.28e+04   -4.45e+04\n",
       "bathrooms      5.575e+04   3588.343     15.537      0.000    4.87e+04    6.28e+04\n",
       "floors         1.929e+04   3574.190      5.398      0.000    1.23e+04    2.63e+04\n",
       "sqft_lot         -0.0105      0.054     -0.196      0.845      -0.116       0.095\n",
       "grade          1.246e+05   2353.417     52.931      0.000     1.2e+05    1.29e+05\n",
       "sqft_living15    30.9856      3.687      8.404      0.000      23.759      38.213\n",
       "sqft_lot15       -0.5246      0.082     -6.378      0.000      -0.686      -0.363\n",
       "age            4184.7557     66.634     62.802      0.000    4054.148    4315.364\n",
       "==============================================================================\n",
       "Omnibus:                    17500.822   Durbin-Watson:                   1.984\n",
       "Prob(Omnibus):                  0.000   Jarque-Bera (JB):          1279225.711\n",
       "Skew:                           3.400   Prob(JB):                         0.00\n",
       "Kurtosis:                      40.085   Cond. No.                     5.39e+05\n",
       "==============================================================================\n",
       "\n",
       "Warnings:\n",
       "[1] Standard Errors assume that the covariance matrix of the errors is correctly specified.\n",
       "[2] The condition number is large, 5.39e+05. This might indicate that there are\n",
       "strong multicollinearity or other numerical problems.\n",
       "\"\"\""
      ]
     },
     "execution_count": 3,
     "metadata": {},
     "output_type": "execute_result"
    }
   ],
   "source": [
    "#THIS IS My Regression\n",
    "\n",
    "X = df[['sqft_living', 'bedrooms', 'bathrooms', 'floors', 'sqft_lot', 'grade', 'sqft_living15', 'sqft_lot15', 'age']] # here we have 2 variables for multiple regression. If you just want to use one variable for simple linear regression, then use X = df['Interest_Rate'] for example.Alternatively, you may add additional variables within the brackets\n",
    "Y = df['price']\n",
    "\n",
    "X = sm.add_constant(X) # adding a constant\n",
    "\n",
    "model1 = sm.OLS(Y, X).fit()\n",
    "model1.summary()"
   ]
  },
  {
   "cell_type": "code",
   "execution_count": 4,
   "metadata": {},
   "outputs": [
    {
     "data": {
      "image/png": "[encoded data removed]",
      "text/plain": [
       "<Figure size 432x288 with 1 Axes>"
      ]
     },
     "metadata": {
      "needs_background": "light"
     },
     "output_type": "display_data"
    }
   ],
   "source": [
    "#QQplot\n",
    "\n",
    "import pylab \n",
    "import scipy.stats as stats\n",
    "\n",
    "residuals1 = model1.resid\n",
    "fig = sm.qqplot(residuals1, stats.t, fit=True, line='45')\n",
    "plt.show()"
   ]
  },
  {
   "cell_type": "code",
   "execution_count": 5,
   "metadata": {},
   "outputs": [
    {
     "data": {
      "text/plain": [
       "<matplotlib.axes._subplots.AxesSubplot at 0x1c1b9cf208>"
      ]
     },
     "execution_count": 5,
     "metadata": {},
     "output_type": "execute_result"
    },
    {
     "data": {
      "image/png": "[encoded data removed]",
      "text/plain": [
       "<Figure size 432x288 with 1 Axes>"
      ]
     },
     "metadata": {
      "needs_background": "light"
     },
     "output_type": "display_data"
    }
   ],
   "source": [
    "residuals1.hist()"
   ]
  },
  {
   "cell_type": "code",
   "execution_count": 22,
   "metadata": {},
   "outputs": [],
   "source": [
    "df_fixed = df.loc[df['price'] < 1000000]"
   ]
  },
  {
   "cell_type": "code",
   "execution_count": 23,
   "metadata": {},
   "outputs": [
    {
     "data": {
      "text/html": [
       "<table class=\"simpletable\">\n",
       "<caption>OLS Regression Results</caption>\n",
       "<tr>\n",
       "  <th>Dep. Variable:</th>          <td>price</td>      <th>  R-squared:         </th>  <td>   0.551</td>  \n",
       "</tr>\n",
       "<tr>\n",
       "  <th>Model:</th>                   <td>OLS</td>       <th>  Adj. R-squared:    </th>  <td>   0.550</td>  \n",
       "</tr>\n",
       "<tr>\n",
       "  <th>Method:</th>             <td>Least Squares</td>  <th>  F-statistic:       </th>  <td>   2735.</td>  \n",
       "</tr>\n",
       "<tr>\n",
       "  <th>Date:</th>             <td>Mon, 06 May 2019</td> <th>  Prob (F-statistic):</th>   <td>  0.00</td>   \n",
       "</tr>\n",
       "<tr>\n",
       "  <th>Time:</th>                 <td>17:54:14</td>     <th>  Log-Likelihood:    </th> <td>-2.6546e+05</td>\n",
       "</tr>\n",
       "<tr>\n",
       "  <th>No. Observations:</th>      <td> 20107</td>      <th>  AIC:               </th>  <td>5.309e+05</td> \n",
       "</tr>\n",
       "<tr>\n",
       "  <th>Df Residuals:</th>          <td> 20097</td>      <th>  BIC:               </th>  <td>5.310e+05</td> \n",
       "</tr>\n",
       "<tr>\n",
       "  <th>Df Model:</th>              <td>     9</td>      <th>                     </th>      <td> </td>     \n",
       "</tr>\n",
       "<tr>\n",
       "  <th>Covariance Type:</th>      <td>nonrobust</td>    <th>                     </th>      <td> </td>     \n",
       "</tr>\n",
       "</table>\n",
       "<table class=\"simpletable\">\n",
       "<tr>\n",
       "        <td></td>           <th>coef</th>     <th>std err</th>      <th>t</th>      <th>P>|t|</th>  <th>[0.025</th>    <th>0.975]</th>  \n",
       "</tr>\n",
       "<tr>\n",
       "  <th>const</th>         <td>-6.283e+05</td> <td> 1.04e+04</td> <td>  -60.130</td> <td> 0.000</td> <td>-6.49e+05</td> <td>-6.08e+05</td>\n",
       "</tr>\n",
       "<tr>\n",
       "  <th>sqft_living</th>   <td>   60.8308</td> <td>    2.523</td> <td>   24.106</td> <td> 0.000</td> <td>   55.885</td> <td>   65.777</td>\n",
       "</tr>\n",
       "<tr>\n",
       "  <th>bedrooms</th>      <td>-1.312e+04</td> <td> 1306.389</td> <td>  -10.042</td> <td> 0.000</td> <td>-1.57e+04</td> <td>-1.06e+04</td>\n",
       "</tr>\n",
       "<tr>\n",
       "  <th>bathrooms</th>     <td> 3.364e+04</td> <td> 2217.070</td> <td>   15.174</td> <td> 0.000</td> <td> 2.93e+04</td> <td>  3.8e+04</td>\n",
       "</tr>\n",
       "<tr>\n",
       "  <th>floors</th>        <td> 3.774e+04</td> <td> 2168.725</td> <td>   17.401</td> <td> 0.000</td> <td> 3.35e+04</td> <td>  4.2e+04</td>\n",
       "</tr>\n",
       "<tr>\n",
       "  <th>sqft_lot</th>      <td>    0.1388</td> <td>    0.033</td> <td>    4.243</td> <td> 0.000</td> <td>    0.075</td> <td>    0.203</td>\n",
       "</tr>\n",
       "<tr>\n",
       "  <th>grade</th>         <td>  8.78e+04</td> <td> 1473.675</td> <td>   59.576</td> <td> 0.000</td> <td> 8.49e+04</td> <td> 9.07e+04</td>\n",
       "</tr>\n",
       "<tr>\n",
       "  <th>sqft_living15</th> <td>   53.5168</td> <td>    2.418</td> <td>   22.131</td> <td> 0.000</td> <td>   48.777</td> <td>   58.257</td>\n",
       "</tr>\n",
       "<tr>\n",
       "  <th>sqft_lot15</th>    <td>   -0.2315</td> <td>    0.050</td> <td>   -4.637</td> <td> 0.000</td> <td>   -0.329</td> <td>   -0.134</td>\n",
       "</tr>\n",
       "<tr>\n",
       "  <th>age</th>           <td> 2819.8720</td> <td>   42.103</td> <td>   66.975</td> <td> 0.000</td> <td> 2737.346</td> <td> 2902.398</td>\n",
       "</tr>\n",
       "</table>\n",
       "<table class=\"simpletable\">\n",
       "<tr>\n",
       "  <th>Omnibus:</th>       <td>437.453</td> <th>  Durbin-Watson:     </th> <td>   1.960</td> \n",
       "</tr>\n",
       "<tr>\n",
       "  <th>Prob(Omnibus):</th> <td> 0.000</td>  <th>  Jarque-Bera (JB):  </th> <td> 503.804</td> \n",
       "</tr>\n",
       "<tr>\n",
       "  <th>Skew:</th>          <td> 0.320</td>  <th>  Prob(JB):          </th> <td>3.98e-110</td>\n",
       "</tr>\n",
       "<tr>\n",
       "  <th>Kurtosis:</th>      <td> 3.437</td>  <th>  Cond. No.          </th> <td>5.55e+05</td> \n",
       "</tr>\n",
       "</table><br/><br/>Warnings:<br/>[1] Standard Errors assume that the covariance matrix of the errors is correctly specified.<br/>[2] The condition number is large, 5.55e+05. This might indicate that there are<br/>strong multicollinearity or other numerical problems."
      ],
      "text/plain": [
       "<class 'statsmodels.iolib.summary.Summary'>\n",
       "\"\"\"\n",
       "                            OLS Regression Results                            \n",
       "==============================================================================\n",
       "Dep. Variable:                  price   R-squared:                       0.551\n",
       "Model:                            OLS   Adj. R-squared:                  0.550\n",
       "Method:                 Least Squares   F-statistic:                     2735.\n",
       "Date:                Mon, 06 May 2019   Prob (F-statistic):               0.00\n",
       "Time:                        17:54:14   Log-Likelihood:            -2.6546e+05\n",
       "No. Observations:               20107   AIC:                         5.309e+05\n",
       "Df Residuals:                   20097   BIC:                         5.310e+05\n",
       "Df Model:                           9                                         \n",
       "Covariance Type:            nonrobust                                         \n",
       "=================================================================================\n",
       "                    coef    std err          t      P>|t|      [0.025      0.975]\n",
       "---------------------------------------------------------------------------------\n",
       "const         -6.283e+05   1.04e+04    -60.130      0.000   -6.49e+05   -6.08e+05\n",
       "sqft_living      60.8308      2.523     24.106      0.000      55.885      65.777\n",
       "bedrooms      -1.312e+04   1306.389    -10.042      0.000   -1.57e+04   -1.06e+04\n",
       "bathrooms      3.364e+04   2217.070     15.174      0.000    2.93e+04     3.8e+04\n",
       "floors         3.774e+04   2168.725     17.401      0.000    3.35e+04     4.2e+04\n",
       "sqft_lot          0.1388      0.033      4.243      0.000       0.075       0.203\n",
       "grade           8.78e+04   1473.675     59.576      0.000    8.49e+04    9.07e+04\n",
       "sqft_living15    53.5168      2.418     22.131      0.000      48.777      58.257\n",
       "sqft_lot15       -0.2315      0.050     -4.637      0.000      -0.329      -0.134\n",
       "age            2819.8720     42.103     66.975      0.000    2737.346    2902.398\n",
       "==============================================================================\n",
       "Omnibus:                      437.453   Durbin-Watson:                   1.960\n",
       "Prob(Omnibus):                  0.000   Jarque-Bera (JB):              503.804\n",
       "Skew:                           0.320   Prob(JB):                    3.98e-110\n",
       "Kurtosis:                       3.437   Cond. No.                     5.55e+05\n",
       "==============================================================================\n",
       "\n",
       "Warnings:\n",
       "[1] Standard Errors assume that the covariance matrix of the errors is correctly specified.\n",
       "[2] The condition number is large, 5.55e+05. This might indicate that there are\n",
       "strong multicollinearity or other numerical problems.\n",
       "\"\"\""
      ]
     },
     "execution_count": 23,
     "metadata": {},
     "output_type": "execute_result"
    }
   ],
   "source": [
    "\n",
    "X = df_fixed[['sqft_living', 'bedrooms', 'bathrooms', 'floors', 'sqft_lot', 'grade', 'sqft_living15', 'sqft_lot15', 'age']] # here we have 2 variables for multiple regression. If you just want to use one variable for simple linear regression, then use X = df['Interest_Rate'] for example.Alternatively, you may add additional variables within the brackets\n",
    "Y = df_fixed['price']\n",
    "\n",
    "X = sm.add_constant(X) # adding a constant\n",
    "\n",
    "model2 = sm.OLS(Y, X).fit()\n",
    "model2.summary()"
   ]
  },
  {
   "cell_type": "code",
   "execution_count": 25,
   "metadata": {},
   "outputs": [
    {
     "data": {
      "image/png": "[encoded data removed]",
      "text/plain": [
       "<Figure size 432x288 with 1 Axes>"
      ]
     },
     "metadata": {
      "needs_background": "light"
     },
     "output_type": "display_data"
    }
   ],
   "source": [
    "import pylab \n",
    "import scipy.stats as stats\n",
    "\n",
    "residuals2 = model2.resid\n",
    "fig = sm.qqplot(residuals2, stats.t, fit=True, line='45')\n",
    "plt.show()"
   ]
  },
  {
   "cell_type": "code",
   "execution_count": 26,
   "metadata": {},
   "outputs": [],
   "source": [
    "df_rich = df.loc[df['price'] > 3000000]"
   ]
  },
  {
   "cell_type": "code",
   "execution_count": 27,
   "metadata": {},
   "outputs": [
    {
     "data": {
      "text/html": [
       "<table class=\"simpletable\">\n",
       "<caption>OLS Regression Results</caption>\n",
       "<tr>\n",
       "  <th>Dep. Variable:</th>          <td>price</td>      <th>  R-squared:         </th> <td>   0.735</td>\n",
       "</tr>\n",
       "<tr>\n",
       "  <th>Model:</th>                   <td>OLS</td>       <th>  Adj. R-squared:    </th> <td>   0.667</td>\n",
       "</tr>\n",
       "<tr>\n",
       "  <th>Method:</th>             <td>Least Squares</td>  <th>  F-statistic:       </th> <td>   10.81</td>\n",
       "</tr>\n",
       "<tr>\n",
       "  <th>Date:</th>             <td>Mon, 06 May 2019</td> <th>  Prob (F-statistic):</th> <td>8.40e-08</td>\n",
       "</tr>\n",
       "<tr>\n",
       "  <th>Time:</th>                 <td>17:54:56</td>     <th>  Log-Likelihood:    </th> <td> -659.85</td>\n",
       "</tr>\n",
       "<tr>\n",
       "  <th>No. Observations:</th>      <td>    45</td>      <th>  AIC:               </th> <td>   1340.</td>\n",
       "</tr>\n",
       "<tr>\n",
       "  <th>Df Residuals:</th>          <td>    35</td>      <th>  BIC:               </th> <td>   1358.</td>\n",
       "</tr>\n",
       "<tr>\n",
       "  <th>Df Model:</th>              <td>     9</td>      <th>                     </th>     <td> </td>   \n",
       "</tr>\n",
       "<tr>\n",
       "  <th>Covariance Type:</th>      <td>nonrobust</td>    <th>                     </th>     <td> </td>   \n",
       "</tr>\n",
       "</table>\n",
       "<table class=\"simpletable\">\n",
       "<tr>\n",
       "        <td></td>           <th>coef</th>     <th>std err</th>      <th>t</th>      <th>P>|t|</th>  <th>[0.025</th>    <th>0.975]</th>  \n",
       "</tr>\n",
       "<tr>\n",
       "  <th>const</th>         <td> 6.982e+05</td> <td> 1.31e+06</td> <td>    0.533</td> <td> 0.597</td> <td>-1.96e+06</td> <td> 3.36e+06</td>\n",
       "</tr>\n",
       "<tr>\n",
       "  <th>sqft_living</th>   <td>  467.3902</td> <td>   88.778</td> <td>    5.265</td> <td> 0.000</td> <td>  287.162</td> <td>  647.619</td>\n",
       "</tr>\n",
       "<tr>\n",
       "  <th>bedrooms</th>      <td>-1.272e+05</td> <td> 1.24e+05</td> <td>   -1.025</td> <td> 0.313</td> <td>-3.79e+05</td> <td> 1.25e+05</td>\n",
       "</tr>\n",
       "<tr>\n",
       "  <th>bathrooms</th>     <td> 1.312e+05</td> <td> 1.25e+05</td> <td>    1.051</td> <td> 0.301</td> <td>-1.22e+05</td> <td> 3.85e+05</td>\n",
       "</tr>\n",
       "<tr>\n",
       "  <th>floors</th>        <td>-1.617e+04</td> <td>  2.3e+05</td> <td>   -0.070</td> <td> 0.944</td> <td>-4.83e+05</td> <td> 4.51e+05</td>\n",
       "</tr>\n",
       "<tr>\n",
       "  <th>sqft_lot</th>      <td>    1.6042</td> <td>   13.923</td> <td>    0.115</td> <td> 0.909</td> <td>  -26.661</td> <td>   29.869</td>\n",
       "</tr>\n",
       "<tr>\n",
       "  <th>grade</th>         <td>-4.131e+04</td> <td> 1.26e+05</td> <td>   -0.328</td> <td> 0.745</td> <td>-2.97e+05</td> <td> 2.14e+05</td>\n",
       "</tr>\n",
       "<tr>\n",
       "  <th>sqft_living15</th> <td>   71.7566</td> <td>  171.723</td> <td>    0.418</td> <td> 0.679</td> <td> -276.860</td> <td>  420.373</td>\n",
       "</tr>\n",
       "<tr>\n",
       "  <th>sqft_lot15</th>    <td>   17.8768</td> <td>   16.182</td> <td>    1.105</td> <td> 0.277</td> <td>  -14.974</td> <td>   50.727</td>\n",
       "</tr>\n",
       "<tr>\n",
       "  <th>age</th>           <td> 3469.7554</td> <td> 3772.810</td> <td>    0.920</td> <td> 0.364</td> <td>-4189.457</td> <td> 1.11e+04</td>\n",
       "</tr>\n",
       "</table>\n",
       "<table class=\"simpletable\">\n",
       "<tr>\n",
       "  <th>Omnibus:</th>       <td> 1.518</td> <th>  Durbin-Watson:     </th> <td>   2.001</td>\n",
       "</tr>\n",
       "<tr>\n",
       "  <th>Prob(Omnibus):</th> <td> 0.468</td> <th>  Jarque-Bera (JB):  </th> <td>   1.266</td>\n",
       "</tr>\n",
       "<tr>\n",
       "  <th>Skew:</th>          <td>-0.405</td> <th>  Prob(JB):          </th> <td>   0.531</td>\n",
       "</tr>\n",
       "<tr>\n",
       "  <th>Kurtosis:</th>      <td> 2.857</td> <th>  Cond. No.          </th> <td>4.83e+05</td>\n",
       "</tr>\n",
       "</table><br/><br/>Warnings:<br/>[1] Standard Errors assume that the covariance matrix of the errors is correctly specified.<br/>[2] The condition number is large, 4.83e+05. This might indicate that there are<br/>strong multicollinearity or other numerical problems."
      ],
      "text/plain": [
       "<class 'statsmodels.iolib.summary.Summary'>\n",
       "\"\"\"\n",
       "                            OLS Regression Results                            \n",
       "==============================================================================\n",
       "Dep. Variable:                  price   R-squared:                       0.735\n",
       "Model:                            OLS   Adj. R-squared:                  0.667\n",
       "Method:                 Least Squares   F-statistic:                     10.81\n",
       "Date:                Mon, 06 May 2019   Prob (F-statistic):           8.40e-08\n",
       "Time:                        17:54:56   Log-Likelihood:                -659.85\n",
       "No. Observations:                  45   AIC:                             1340.\n",
       "Df Residuals:                      35   BIC:                             1358.\n",
       "Df Model:                           9                                         \n",
       "Covariance Type:            nonrobust                                         \n",
       "=================================================================================\n",
       "                    coef    std err          t      P>|t|      [0.025      0.975]\n",
       "---------------------------------------------------------------------------------\n",
       "const          6.982e+05   1.31e+06      0.533      0.597   -1.96e+06    3.36e+06\n",
       "sqft_living     467.3902     88.778      5.265      0.000     287.162     647.619\n",
       "bedrooms      -1.272e+05   1.24e+05     -1.025      0.313   -3.79e+05    1.25e+05\n",
       "bathrooms      1.312e+05   1.25e+05      1.051      0.301   -1.22e+05    3.85e+05\n",
       "floors        -1.617e+04    2.3e+05     -0.070      0.944   -4.83e+05    4.51e+05\n",
       "sqft_lot          1.6042     13.923      0.115      0.909     -26.661      29.869\n",
       "grade         -4.131e+04   1.26e+05     -0.328      0.745   -2.97e+05    2.14e+05\n",
       "sqft_living15    71.7566    171.723      0.418      0.679    -276.860     420.373\n",
       "sqft_lot15       17.8768     16.182      1.105      0.277     -14.974      50.727\n",
       "age            3469.7554   3772.810      0.920      0.364   -4189.457    1.11e+04\n",
       "==============================================================================\n",
       "Omnibus:                        1.518   Durbin-Watson:                   2.001\n",
       "Prob(Omnibus):                  0.468   Jarque-Bera (JB):                1.266\n",
       "Skew:                          -0.405   Prob(JB):                        0.531\n",
       "Kurtosis:                       2.857   Cond. No.                     4.83e+05\n",
       "==============================================================================\n",
       "\n",
       "Warnings:\n",
       "[1] Standard Errors assume that the covariance matrix of the errors is correctly specified.\n",
       "[2] The condition number is large, 4.83e+05. This might indicate that there are\n",
       "strong multicollinearity or other numerical problems.\n",
       "\"\"\""
      ]
     },
     "execution_count": 27,
     "metadata": {},
     "output_type": "execute_result"
    }
   ],
   "source": [
    "X = df_rich[['sqft_living', 'bedrooms', 'bathrooms', 'floors', 'sqft_lot', 'grade', 'sqft_living15', 'sqft_lot15', 'age']] # here we have 2 variables for multiple regression. If you just want to use one variable for simple linear regression, then use X = df['Interest_Rate'] for example.Alternatively, you may add additional variables within the brackets\n",
    "Y = df_rich['price']\n",
    "\n",
    "X = sm.add_constant(X) # adding a constant\n",
    "\n",
    "model3 = sm.OLS(Y, X).fit()\n",
    "model3.summary()"
   ]
  },
  {
   "cell_type": "code",
   "execution_count": 16,
   "metadata": {},
   "outputs": [
    {
     "data": {
      "image/png": "[encoded data removed]",
      "text/plain": [
       "<Figure size 432x288 with 1 Axes>"
      ]
     },
     "metadata": {
      "needs_background": "light"
     },
     "output_type": "display_data"
    }
   ],
   "source": [
    "import pylab \n",
    "import scipy.stats as stats\n",
    "\n",
    "residuals3 = model3.resid\n",
    "fig = sm.qqplot(residuals3, stats.t, fit=True, line='45')\n",
    "plt.show()"
   ]
  },
  {
   "cell_type": "code",
   "execution_count": 17,
   "metadata": {},
   "outputs": [
    {
     "data": {
      "text/plain": [
       "<matplotlib.axes._subplots.AxesSubplot at 0x1c21e93780>"
      ]
     },
     "execution_count": 17,
     "metadata": {},
     "output_type": "execute_result"
    },
    {
     "data": {
      "image/png": "[encoded data removed]",
      "text/plain": [
       "<Figure size 432x288 with 1 Axes>"
      ]
     },
     "metadata": {
      "needs_background": "light"
     },
     "output_type": "display_data"
    }
   ],
   "source": [
    "residuals3.hist()"
   ]
  },
  {
   "cell_type": "code",
   "execution_count": null,
   "metadata": {},
   "outputs": [],
   "source": []
  }
 ],
 "metadata": {
  "kernelspec": {
   "display_name": "Python 3",
   "language": "python",
   "name": "python3"
  },
  "language_info": {
   "codemirror_mode": {
    "name": "ipython",
    "version": 3
   },
   "file_extension": ".py",
   "mimetype": "text/x-python",
   "name": "python",
   "nbconvert_exporter": "python",
   "pygments_lexer": "ipython3",
   "version": "3.7.0"
  }
 },
 "nbformat": 4,
 "nbformat_minor": 2
}
